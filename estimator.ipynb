{
 "cells": [
  {
   "cell_type": "markdown",
   "metadata": {},
   "source": [
    "# Fair Value Estimator\n",
    "\n",
    "### About\n",
    "\n",
    "I wrote this notebook so that my friends and I can save time when estimating the fair value of a stock. All information about the stock is pulled from [Morningstar](https://www.morningstar.com/). Note that this is just how I estimate the fair value, and that my methods, just like all methods, are imperfect. The fair value will never be exactly equal to what I estimate it to be at, but on average I expect to be close enough. As a long-term investor, I'm confident that if I continually buy strong stocks at prices significantly below fair value, I will make alot of money in the long run.\n",
    "\n",
    "Here are some things to keep in mind: \n",
    "* The following modules need to be installed on your computer: Ipython, numpy, pandas, matplotlib, seaborn, selenium\n",
    "* This method of valuation only works for established companies with positive earnings. Investing in a new company with no history or negative earnings is speculative in nature, which makes it hard to put a \"fair value\" on such a stock.\n",
    "* User needs to input 3 values: the ticker symbol of the stock being valued, the acceptable annual returns (%), the expected future growth (%), and the PE ratio that the stock will be sold at.\n",
    "* Buying a stock when it's cheap is only one part of the equation. The stock needs to have a \"moat\", and ideally a good balance sheet, and you need to understand the business (so you know when to sell). If any of these need clarification, please see the link below.\n",
    "* I have details behind how I estimate fair value, notes/tips on investing and how to use this notebook in the grand scheme of things in my [Github repository](https://github.com/zihanye96/Classifying-Toxic-Comments).\n"
   ]
  },
  {
   "cell_type": "code",
   "execution_count": 1,
   "metadata": {
    "scrolled": true
   },
   "outputs": [],
   "source": [
    "## required libraries\n",
    "import IPython\n",
    "import numpy as np\n",
    "import pandas as pd\n",
    "import matplotlib\n",
    "import matplotlib.pyplot as plt\n",
    "import seaborn as sns\n",
    "\n",
    "## for web scraping\n",
    "from selenium import webdriver\n",
    "from selenium.webdriver.support import expected_conditions as EC\n",
    "from selenium.webdriver.common.by import By\n",
    "from selenium.webdriver.support.ui import WebDriverWait as wait"
   ]
  },
  {
   "cell_type": "code",
   "execution_count": 2,
   "metadata": {},
   "outputs": [],
   "source": [
    "ticker = \"AAPL\""
   ]
  },
  {
   "cell_type": "code",
   "execution_count": 3,
   "metadata": {},
   "outputs": [],
   "source": [
    "import datetime\n",
    "present_year = datetime.datetime.now().year"
   ]
  },
  {
   "cell_type": "code",
   "execution_count": 4,
   "metadata": {},
   "outputs": [],
   "source": [
    "rownames = list(np.arange(present_year-10,present_year+1))"
   ]
  },
  {
   "cell_type": "code",
   "execution_count": 5,
   "metadata": {},
   "outputs": [],
   "source": [
    "stock_data = pd.DataFrame({\"Year\":rownames})"
   ]
  },
  {
   "cell_type": "code",
   "execution_count": 6,
   "metadata": {},
   "outputs": [],
   "source": [
    "def fetchPriceRatios(ticker):\n",
    "    \n",
    "    driver = webdriver.Chrome(executable_path='./chromedriver')\n",
    "    driver.get(f'http://financials.morningstar.com/valuation/price-ratio.html?t={ticker}&region=usa&culture=en-US')\n",
    "\n",
    "    tbody = wait(driver, 10).until(EC.presence_of_element_located((By.ID, \"valuation_history_table\")))\n",
    "\n",
    "    rows = tbody.find_elements_by_tag_name(\"tr\")\n",
    "\n",
    "    row_content = [row.text for row in rows]\n",
    "    stock_data[\"PE Ratio\"] = row_content[1].split(\" \")[1:]\n",
    "    stock_data[\"Price to Book\"] = row_content[4].split(\" \")[1:]\n",
    "    stock_data[\"Price to Sales\"] = row_content[7].split(\" \")[1:]\n",
    "\n",
    "    driver.close()"
   ]
  },
  {
   "cell_type": "code",
   "execution_count": 7,
   "metadata": {},
   "outputs": [],
   "source": [
    "def fetchFinancials(ticker):\n",
    "    \n",
    "    driver = webdriver.Chrome(executable_path='./chromedriver')\n",
    "    driver.get(f'http://financials.morningstar.com/ratios/r.html?t={ticker}&region=usa&culture=en-US')\n",
    "    \n",
    "    tbody = wait(driver, 10).until(EC.presence_of_element_located((By.ID, \"financials\")))\n",
    "    rows = tbody.find_elements_by_tag_name(\"tr\")\n",
    "    row_content = [row.text for row in rows]\n",
    "    \n",
    "    currency = row_content[2].split(\" \")[1]\n",
    "    stock_data[\"Revenue\"] = row_content[2].split(\" \")[3:]\n",
    "    stock_data[\"Net Income\"] = row_content[10].split(\" \")[4:]\n",
    "    stock_data[f\"EPS ({currency})\"] = row_content[12].split(\" \")[4:]\n",
    "    stock_data[\"BVPS\"] = row_content[20].split(\" \")[6:]\n",
    "    \n",
    "    tbody = wait(driver, 10).until(EC.presence_of_element_located((By.ID, \"tab-profitability\")))\n",
    "    rows = tbody.find_elements_by_tag_name(\"tr\")\n",
    "    row_content = [row.text for row in rows]\n",
    "    \n",
    "    stock_data[\"ROE\"] = row_content[32].split(\" \")[4:]\n",
    "    stock_data[\"ROIC\"] = row_content[34].split(\" \")[5:]\n",
    "    \n",
    "    driver.close()"
   ]
  },
  {
   "cell_type": "code",
   "execution_count": 8,
   "metadata": {},
   "outputs": [],
   "source": [
    "fetchPriceRatios(ticker)\n",
    "fetchFinancials(ticker)"
   ]
  },
  {
   "cell_type": "code",
   "execution_count": 9,
   "metadata": {},
   "outputs": [
    {
     "data": {
      "text/plain": [
       "pandas.core.frame.DataFrame"
      ]
     },
     "execution_count": 9,
     "metadata": {},
     "output_type": "execute_result"
    }
   ],
   "source": [
    "type(stock_data[[\"BVPS\"]])"
   ]
  },
  {
   "cell_type": "code",
   "execution_count": 10,
   "metadata": {},
   "outputs": [
    {
     "data": {
      "text/plain": [
       "'11.78'"
      ]
     },
     "execution_count": 10,
     "metadata": {},
     "output_type": "execute_result"
    }
   ],
   "source": [
    "stock_data.loc[1, \"BVPS\"]"
   ]
  },
  {
   "cell_type": "code",
   "execution_count": 11,
   "metadata": {},
   "outputs": [
    {
     "data": {
      "text/plain": [
       "str"
      ]
     },
     "execution_count": 11,
     "metadata": {},
     "output_type": "execute_result"
    }
   ],
   "source": [
    "type(stock_data[\"Revenue\"][0])"
   ]
  },
  {
   "cell_type": "code",
   "execution_count": 12,
   "metadata": {},
   "outputs": [],
   "source": [
    "def to_num(column):\n",
    "    if type(column[0]) == str:\n",
    "        return(column.str.replace(',', '').str.replace('—', '0').astype(float))\n",
    "    else:\n",
    "        return(column)"
   ]
  },
  {
   "cell_type": "code",
   "execution_count": 13,
   "metadata": {},
   "outputs": [
    {
     "data": {
      "text/html": [
       "<div>\n",
       "<style scoped>\n",
       "    .dataframe tbody tr th:only-of-type {\n",
       "        vertical-align: middle;\n",
       "    }\n",
       "\n",
       "    .dataframe tbody tr th {\n",
       "        vertical-align: top;\n",
       "    }\n",
       "\n",
       "    .dataframe thead th {\n",
       "        text-align: right;\n",
       "    }\n",
       "</style>\n",
       "<table border=\"1\" class=\"dataframe\">\n",
       "  <thead>\n",
       "    <tr style=\"text-align: right;\">\n",
       "      <th></th>\n",
       "      <th>Year</th>\n",
       "      <th>PE Ratio</th>\n",
       "      <th>Price to Book</th>\n",
       "      <th>Price to Sales</th>\n",
       "      <th>Revenue</th>\n",
       "      <th>Net Income</th>\n",
       "      <th>EPS (USD)</th>\n",
       "      <th>BVPS</th>\n",
       "      <th>ROE</th>\n",
       "      <th>ROIC</th>\n",
       "    </tr>\n",
       "  </thead>\n",
       "  <tbody>\n",
       "    <tr>\n",
       "      <td>0</td>\n",
       "      <td>2010</td>\n",
       "      <td>18.0</td>\n",
       "      <td>5.4</td>\n",
       "      <td>3.9</td>\n",
       "      <td>65225.0</td>\n",
       "      <td>14013.0</td>\n",
       "      <td>2.16</td>\n",
       "      <td>7.45</td>\n",
       "      <td>37.06</td>\n",
       "      <td>36.44</td>\n",
       "    </tr>\n",
       "    <tr>\n",
       "      <td>1</td>\n",
       "      <td>2011</td>\n",
       "      <td>14.6</td>\n",
       "      <td>4.9</td>\n",
       "      <td>3.5</td>\n",
       "      <td>108249.0</td>\n",
       "      <td>25922.0</td>\n",
       "      <td>3.95</td>\n",
       "      <td>11.78</td>\n",
       "      <td>41.67</td>\n",
       "      <td>41.04</td>\n",
       "    </tr>\n",
       "    <tr>\n",
       "      <td>2</td>\n",
       "      <td>2012</td>\n",
       "      <td>12.1</td>\n",
       "      <td>3.9</td>\n",
       "      <td>3.1</td>\n",
       "      <td>156508.0</td>\n",
       "      <td>41733.0</td>\n",
       "      <td>6.31</td>\n",
       "      <td>16.99</td>\n",
       "      <td>42.84</td>\n",
       "      <td>42.01</td>\n",
       "    </tr>\n",
       "    <tr>\n",
       "      <td>3</td>\n",
       "      <td>2013</td>\n",
       "      <td>14.1</td>\n",
       "      <td>4.1</td>\n",
       "      <td>3.1</td>\n",
       "      <td>170910.0</td>\n",
       "      <td>37037.0</td>\n",
       "      <td>5.68</td>\n",
       "      <td>19.60</td>\n",
       "      <td>30.64</td>\n",
       "      <td>26.08</td>\n",
       "    </tr>\n",
       "    <tr>\n",
       "      <td>4</td>\n",
       "      <td>2014</td>\n",
       "      <td>17.1</td>\n",
       "      <td>5.8</td>\n",
       "      <td>3.7</td>\n",
       "      <td>182795.0</td>\n",
       "      <td>39510.0</td>\n",
       "      <td>6.45</td>\n",
       "      <td>20.62</td>\n",
       "      <td>33.61</td>\n",
       "      <td>26.20</td>\n",
       "    </tr>\n",
       "    <tr>\n",
       "      <td>5</td>\n",
       "      <td>2015</td>\n",
       "      <td>11.4</td>\n",
       "      <td>4.9</td>\n",
       "      <td>2.6</td>\n",
       "      <td>233715.0</td>\n",
       "      <td>53394.0</td>\n",
       "      <td>9.22</td>\n",
       "      <td>22.53</td>\n",
       "      <td>46.25</td>\n",
       "      <td>31.32</td>\n",
       "    </tr>\n",
       "    <tr>\n",
       "      <td>6</td>\n",
       "      <td>2016</td>\n",
       "      <td>13.9</td>\n",
       "      <td>4.7</td>\n",
       "      <td>3.0</td>\n",
       "      <td>215639.0</td>\n",
       "      <td>45687.0</td>\n",
       "      <td>8.31</td>\n",
       "      <td>23.71</td>\n",
       "      <td>36.90</td>\n",
       "      <td>21.95</td>\n",
       "    </tr>\n",
       "    <tr>\n",
       "      <td>7</td>\n",
       "      <td>2017</td>\n",
       "      <td>18.4</td>\n",
       "      <td>6.4</td>\n",
       "      <td>3.9</td>\n",
       "      <td>229234.0</td>\n",
       "      <td>48351.0</td>\n",
       "      <td>9.21</td>\n",
       "      <td>25.83</td>\n",
       "      <td>36.87</td>\n",
       "      <td>19.86</td>\n",
       "    </tr>\n",
       "    <tr>\n",
       "      <td>8</td>\n",
       "      <td>2018</td>\n",
       "      <td>13.2</td>\n",
       "      <td>7.0</td>\n",
       "      <td>3.0</td>\n",
       "      <td>265595.0</td>\n",
       "      <td>59531.0</td>\n",
       "      <td>11.91</td>\n",
       "      <td>24.17</td>\n",
       "      <td>49.36</td>\n",
       "      <td>24.41</td>\n",
       "    </tr>\n",
       "    <tr>\n",
       "      <td>9</td>\n",
       "      <td>2019</td>\n",
       "      <td>24.7</td>\n",
       "      <td>14.2</td>\n",
       "      <td>5.2</td>\n",
       "      <td>260174.0</td>\n",
       "      <td>55256.0</td>\n",
       "      <td>11.89</td>\n",
       "      <td>21.71</td>\n",
       "      <td>55.92</td>\n",
       "      <td>25.75</td>\n",
       "    </tr>\n",
       "    <tr>\n",
       "      <td>10</td>\n",
       "      <td>2020</td>\n",
       "      <td>20.4</td>\n",
       "      <td>12.7</td>\n",
       "      <td>4.4</td>\n",
       "      <td>267683.0</td>\n",
       "      <td>57527.0</td>\n",
       "      <td>12.70</td>\n",
       "      <td>20.46</td>\n",
       "      <td>55.47</td>\n",
       "      <td>26.24</td>\n",
       "    </tr>\n",
       "  </tbody>\n",
       "</table>\n",
       "</div>"
      ],
      "text/plain": [
       "    Year  PE Ratio  Price to Book  Price to Sales   Revenue  Net Income  \\\n",
       "0   2010      18.0            5.4             3.9   65225.0     14013.0   \n",
       "1   2011      14.6            4.9             3.5  108249.0     25922.0   \n",
       "2   2012      12.1            3.9             3.1  156508.0     41733.0   \n",
       "3   2013      14.1            4.1             3.1  170910.0     37037.0   \n",
       "4   2014      17.1            5.8             3.7  182795.0     39510.0   \n",
       "5   2015      11.4            4.9             2.6  233715.0     53394.0   \n",
       "6   2016      13.9            4.7             3.0  215639.0     45687.0   \n",
       "7   2017      18.4            6.4             3.9  229234.0     48351.0   \n",
       "8   2018      13.2            7.0             3.0  265595.0     59531.0   \n",
       "9   2019      24.7           14.2             5.2  260174.0     55256.0   \n",
       "10  2020      20.4           12.7             4.4  267683.0     57527.0   \n",
       "\n",
       "    EPS (USD)   BVPS    ROE   ROIC  \n",
       "0        2.16   7.45  37.06  36.44  \n",
       "1        3.95  11.78  41.67  41.04  \n",
       "2        6.31  16.99  42.84  42.01  \n",
       "3        5.68  19.60  30.64  26.08  \n",
       "4        6.45  20.62  33.61  26.20  \n",
       "5        9.22  22.53  46.25  31.32  \n",
       "6        8.31  23.71  36.90  21.95  \n",
       "7        9.21  25.83  36.87  19.86  \n",
       "8       11.91  24.17  49.36  24.41  \n",
       "9       11.89  21.71  55.92  25.75  \n",
       "10      12.70  20.46  55.47  26.24  "
      ]
     },
     "execution_count": 13,
     "metadata": {},
     "output_type": "execute_result"
    }
   ],
   "source": [
    "stock_data.apply(to_num, axis=0)"
   ]
  },
  {
   "cell_type": "code",
   "execution_count": null,
   "metadata": {
    "scrolled": true
   },
   "outputs": [],
   "source": []
  },
  {
   "cell_type": "code",
   "execution_count": 14,
   "metadata": {},
   "outputs": [],
   "source": [
    "stock_data = stock_data.apply(to_num, axis=0)"
   ]
  },
  {
   "cell_type": "code",
   "execution_count": 15,
   "metadata": {},
   "outputs": [],
   "source": [
    "revenue_percent_change = stock_data.iloc[:, 4].pct_change()\n",
    "Income_percent_change = stock_data.iloc[:, 5].pct_change()\n",
    "EPS_percent_change = stock_data.iloc[:, 6].pct_change()\n",
    "BVPS_percent_change = stock_data.iloc[:, 7].pct_change()\n",
    "percent_change = pd.DataFrame({\"Revenue\": revenue_percent_change, \"Income\": Income_percent_change,\n",
    "                              \"Book Value\": BVPS_percent_change, \"EPS\": EPS_percent_change})"
   ]
  },
  {
   "cell_type": "markdown",
   "metadata": {},
   "source": [
    "### Summary"
   ]
  },
  {
   "cell_type": "code",
   "execution_count": 16,
   "metadata": {
    "scrolled": false
   },
   "outputs": [
    {
     "name": "stdout",
     "output_type": "stream",
     "text": [
      "PE Ratio over last 10 years: [18.  14.6 12.1 14.1 17.1 11.4 13.9 18.4 13.2 24.7 20.4]\n"
     ]
    },
    {
     "data": {
      "image/png": "[encoded data removed]",
      "text/plain": [
       "<Figure size 432x288 with 1 Axes>"
      ]
     },
     "metadata": {
      "needs_background": "light"
     },
     "output_type": "display_data"
    }
   ],
   "source": [
    "sns.lineplot(stock_data[\"Year\"],stock_data[\"PE Ratio\"])\n",
    "plt.title(\"PE Ratio History\")\n",
    "print(\"PE Ratio over last 10 years: {}\".format(np.array(stock_data[\"PE Ratio\"])))"
   ]
  },
  {
   "cell_type": "code",
   "execution_count": 17,
   "metadata": {
    "scrolled": true
   },
   "outputs": [
    {
     "name": "stdout",
     "output_type": "stream",
     "text": [
      "Based on historical data, what PE Ratio will you sell at?25\n"
     ]
    }
   ],
   "source": [
    "PE_sell = input(\"Based on historical data, what PE Ratio will you sell at?\")"
   ]
  },
  {
   "cell_type": "code",
   "execution_count": 18,
   "metadata": {
    "scrolled": true
   },
   "outputs": [
    {
     "name": "stdout",
     "output_type": "stream",
     "text": [
      "Management Effectiveness: \n",
      "     ROIC    ROE\n",
      "0   36.44  37.06\n",
      "1   41.04  41.67\n",
      "2   42.01  42.84\n",
      "3   26.08  30.64\n",
      "4   26.20  33.61\n",
      "5   31.32  46.25\n",
      "6   21.95  36.90\n",
      "7   19.86  36.87\n",
      "8   24.41  49.36\n",
      "9   25.75  55.92\n",
      "10  26.24  55.47\n",
      "% Growth in: \n",
      "     Revenue     Income  Book Value        EPS\n",
      "1  65.962438  84.985371   58.120805  82.870370\n",
      "2  44.581474  60.994522   44.227504  59.746835\n",
      "3   9.202086 -11.252486   15.361978  -9.984152\n",
      "4   6.953952   6.677107    5.204082  13.556338\n",
      "5  27.856342  35.140471    9.262852  42.945736\n",
      "6  -7.734206 -14.434206    5.237461  -9.869848\n",
      "7   6.304518   5.830980    8.941375  10.830325\n",
      "8  15.861958  23.122583   -6.426636  29.315961\n",
      "9  -2.041078  -7.181133  -10.177906  -0.167926\n"
     ]
    }
   ],
   "source": [
    "## format the df's better - use green for above 15%, red for negative?\n",
    "\n",
    "print(\"Management Effectiveness: \\n{}\".format(pd.DataFrame({\"ROIC\": stock_data[\"ROIC\"], \n",
    "                                                            \"ROE\": stock_data[\"ROE\"]})))\n",
    "print(\"% Growth in: \\n{}\".format(percent_change.iloc[1:10,:]*100))"
   ]
  },
  {
   "cell_type": "code",
   "execution_count": 19,
   "metadata": {
    "scrolled": true
   },
   "outputs": [
    {
     "name": "stdout",
     "output_type": "stream",
     "text": [
      "Based on historical data, how much (in %) do you think the EPS will grow on average over the next 5 years?10\n",
      "What is the per year rate of return (in %) do you want from this investment?10\n"
     ]
    }
   ],
   "source": [
    "future_growth = input(\"Based on historical data, how much (in %) do you think the EPS will grow on average over the next 5 years?\")\n",
    "annual_ror = input(\"What is the per year rate of return (in %) do you want from this investment?\")"
   ]
  },
  {
   "cell_type": "code",
   "execution_count": 20,
   "metadata": {},
   "outputs": [],
   "source": [
    "def estimate_fair_value(EPS, future_growth, ror, PE):\n",
    "    \n",
    "    future_value = EPS * (1+future_growth/100)**5 * PE\n",
    "    present_value = future_value/((1+ror/100)**5)\n",
    "    return(future_value, present_value)"
   ]
  },
  {
   "cell_type": "code",
   "execution_count": 21,
   "metadata": {},
   "outputs": [
    {
     "name": "stdout",
     "output_type": "stream",
     "text": [
      "Fair Value Estimate: $317.50\n",
      "The future value of your investment is: $511.34\n"
     ]
    }
   ],
   "source": [
    "future, present = estimate_fair_value(stock_data.iloc[10, 6], float(future_growth), float(annual_ror), float(PE_sell))\n",
    "\n",
    "print(\"Fair Value Estimate: ${:.2f}\".format(present))\n",
    "print(\"The future value of your investment is: ${:.2f}\".format(future))"
   ]
  }
 ],
 "metadata": {
  "kernelspec": {
   "display_name": "Python 3",
   "language": "python",
   "name": "python3"
  },
  "language_info": {
   "codemirror_mode": {
    "name": "ipython",
    "version": 3
   },
   "file_extension": ".py",
   "mimetype": "text/x-python",
   "name": "python",
   "nbconvert_exporter": "python",
   "pygments_lexer": "ipython3",
   "version": "3.7.4"
  }
 },
 "nbformat": 4,
 "nbformat_minor": 2
}
